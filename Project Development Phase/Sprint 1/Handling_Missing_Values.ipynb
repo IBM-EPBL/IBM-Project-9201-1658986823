{
  "nbformat": 4,
  "nbformat_minor": 0,
  "metadata": {
    "colab": {
      "provenance": [],
      "collapsed_sections": []
    },
    "kernelspec": {
      "name": "python3",
      "display_name": "Python 3"
    },
    "language_info": {
      "name": "python"
    }
  },
  "cells": [
    {
      "cell_type": "markdown",
      "source": [
        "**Importing Libraries**"
      ],
      "metadata": {
        "id": "Fk4wvDga8rXc"
      }
    },
    {
      "cell_type": "code",
      "execution_count": 1,
      "metadata": {
        "colab": {
          "base_uri": "https://localhost:8080/"
        },
        "id": "Z9STwcrO8oBQ",
        "outputId": "2f8d618d-ee28-4399-df5e-8bc3fb8a9a41"
      },
      "outputs": [
        {
          "output_type": "stream",
          "name": "stdout",
          "text": [
            "Looking in indexes: https://pypi.org/simple, https://us-python.pkg.dev/colab-wheels/public/simple/\n",
            "Requirement already satisfied: openpyxl in /usr/local/lib/python3.7/dist-packages (3.0.10)\n",
            "Requirement already satisfied: et-xmlfile in /usr/local/lib/python3.7/dist-packages (from openpyxl) (1.1.0)\n"
          ]
        }
      ],
      "source": [
        "import pandas as pd\n",
        "import numpy as np\n",
        "import matplotlib.pyplot as plt\n",
        "import re\n",
        "import os\n",
        "import collections\n",
        "import seaborn as sns\n",
        "import plotly.express as px\n",
        "import warnings\n",
        "warnings.filterwarnings('ignore')\n",
        "!pip3 install openpyxl"
      ]
    },
    {
      "cell_type": "code",
      "source": [
        "from google.colab import drive \n",
        "drive.mount('/content/drive')"
      ],
      "metadata": {
        "colab": {
          "base_uri": "https://localhost:8080/"
        },
        "id": "L23VRoSw9AhO",
        "outputId": "465e34b1-44b4-4ad0-d58d-4d4179d14cef"
      },
      "execution_count": 2,
      "outputs": [
        {
          "output_type": "stream",
          "name": "stdout",
          "text": [
            "Mounted at /content/drive\n"
          ]
        }
      ]
    },
    {
      "cell_type": "markdown",
      "source": [
        "**Importing The Dataset**"
      ],
      "metadata": {
        "id": "yq9V43bw9MHd"
      }
    },
    {
      "cell_type": "code",
      "source": [
        "df=pd.read_csv('/content/drive/My Drive/Nalaiyathiran/rainfall in india 1901-2015.csv')"
      ],
      "metadata": {
        "id": "opnuWeDY9Ldf"
      },
      "execution_count": 3,
      "outputs": []
    },
    {
      "cell_type": "code",
      "source": [
        "df1=pd.read_csv('/content/drive/My Drive/Nalaiyathiran/district wise rainfall normal.csv')"
      ],
      "metadata": {
        "id": "vm_mTDAv9m26"
      },
      "execution_count": 4,
      "outputs": []
    },
    {
      "cell_type": "code",
      "source": [
        "df2=pd.read_csv('/content/drive/My Drive/Nalaiyathiran/weather.csv')"
      ],
      "metadata": {
        "id": "AKo9dF7H9wjN"
      },
      "execution_count": 5,
      "outputs": []
    },
    {
      "cell_type": "markdown",
      "source": [
        "**Handling Missing Values**"
      ],
      "metadata": {
        "id": "Oblkq3m399DR"
      }
    },
    {
      "cell_type": "code",
      "source": [
        "df.isnull().any()"
      ],
      "metadata": {
        "colab": {
          "base_uri": "https://localhost:8080/"
        },
        "id": "XNgKR8kd94TS",
        "outputId": "f815e412-fb5f-47cc-c173-381d02e5c70c"
      },
      "execution_count": 6,
      "outputs": [
        {
          "output_type": "execute_result",
          "data": {
            "text/plain": [
              "SUBDIVISION    False\n",
              "YEAR           False\n",
              "JAN             True\n",
              "FEB             True\n",
              "MAR             True\n",
              "APR             True\n",
              "MAY             True\n",
              "JUN             True\n",
              "JUL             True\n",
              "AUG             True\n",
              "SEP             True\n",
              "OCT             True\n",
              "NOV             True\n",
              "DEC             True\n",
              "ANNUAL          True\n",
              "Jan-Feb         True\n",
              "Mar-May         True\n",
              "Jun-Sep         True\n",
              "Oct-Dec         True\n",
              "dtype: bool"
            ]
          },
          "metadata": {},
          "execution_count": 6
        }
      ]
    },
    {
      "cell_type": "code",
      "source": [
        "df1.isnull().any()"
      ],
      "metadata": {
        "colab": {
          "base_uri": "https://localhost:8080/"
        },
        "id": "LQaHcP0H-Dtt",
        "outputId": "85d037d2-1c99-4c66-a9a5-ea7bebee1791"
      },
      "execution_count": 7,
      "outputs": [
        {
          "output_type": "execute_result",
          "data": {
            "text/plain": [
              "STATE_UT_NAME    False\n",
              "DISTRICT         False\n",
              "JAN              False\n",
              "FEB              False\n",
              "MAR              False\n",
              "APR              False\n",
              "MAY              False\n",
              "JUN              False\n",
              "JUL              False\n",
              "AUG              False\n",
              "SEP              False\n",
              "OCT              False\n",
              "NOV              False\n",
              "DEC              False\n",
              "ANNUAL           False\n",
              "Jan-Feb          False\n",
              "Mar-May          False\n",
              "Jun-Sep          False\n",
              "Oct-Dec          False\n",
              "dtype: bool"
            ]
          },
          "metadata": {},
          "execution_count": 7
        }
      ]
    },
    {
      "cell_type": "code",
      "source": [
        "df2.isnull().any()"
      ],
      "metadata": {
        "colab": {
          "base_uri": "https://localhost:8080/"
        },
        "id": "FteSU_Mm-KJN",
        "outputId": "2794d111-de3c-44a0-f0a6-53ab039c3acd"
      },
      "execution_count": 8,
      "outputs": [
        {
          "output_type": "execute_result",
          "data": {
            "text/plain": [
              "MinTemp          False\n",
              "MaxTemp          False\n",
              "Rainfall         False\n",
              "Evaporation      False\n",
              "Sunshine          True\n",
              "WindGustDir       True\n",
              "WindGustSpeed     True\n",
              "WindDir9am        True\n",
              "WindDir3pm        True\n",
              "WindSpeed9am      True\n",
              "WindSpeed3pm     False\n",
              "Humidity9am      False\n",
              "Humidity3pm      False\n",
              "Pressure9am      False\n",
              "Pressure3pm      False\n",
              "Cloud9am         False\n",
              "Cloud3pm         False\n",
              "Temp9am          False\n",
              "Temp3pm          False\n",
              "RainToday        False\n",
              "RISK_MM          False\n",
              "RainTomorrow     False\n",
              "dtype: bool"
            ]
          },
          "metadata": {},
          "execution_count": 8
        }
      ]
    },
    {
      "cell_type": "code",
      "source": [
        "df.isnull().sum()"
      ],
      "metadata": {
        "colab": {
          "base_uri": "https://localhost:8080/"
        },
        "id": "d-TqpCU5-PHJ",
        "outputId": "e9bff3c6-99b4-4c4b-f987-088a3b239a0e"
      },
      "execution_count": 9,
      "outputs": [
        {
          "output_type": "execute_result",
          "data": {
            "text/plain": [
              "SUBDIVISION     0\n",
              "YEAR            0\n",
              "JAN             4\n",
              "FEB             3\n",
              "MAR             6\n",
              "APR             4\n",
              "MAY             3\n",
              "JUN             5\n",
              "JUL             7\n",
              "AUG             4\n",
              "SEP             6\n",
              "OCT             7\n",
              "NOV            11\n",
              "DEC            10\n",
              "ANNUAL         26\n",
              "Jan-Feb         6\n",
              "Mar-May         9\n",
              "Jun-Sep        10\n",
              "Oct-Dec        13\n",
              "dtype: int64"
            ]
          },
          "metadata": {},
          "execution_count": 9
        }
      ]
    },
    {
      "cell_type": "code",
      "source": [
        "df1.isnull().sum"
      ],
      "metadata": {
        "colab": {
          "base_uri": "https://localhost:8080/"
        },
        "id": "wGMVucyp-UGL",
        "outputId": "2894c55b-1793-4652-d205-88a9431afe9c"
      },
      "execution_count": 10,
      "outputs": [
        {
          "output_type": "execute_result",
          "data": {
            "text/plain": [
              "<bound method NDFrame._add_numeric_operations.<locals>.sum of      STATE_UT_NAME  DISTRICT    JAN    FEB    MAR    APR    MAY    JUN    JUL  \\\n",
              "0            False     False  False  False  False  False  False  False  False   \n",
              "1            False     False  False  False  False  False  False  False  False   \n",
              "2            False     False  False  False  False  False  False  False  False   \n",
              "3            False     False  False  False  False  False  False  False  False   \n",
              "4            False     False  False  False  False  False  False  False  False   \n",
              "..             ...       ...    ...    ...    ...    ...    ...    ...    ...   \n",
              "636          False     False  False  False  False  False  False  False  False   \n",
              "637          False     False  False  False  False  False  False  False  False   \n",
              "638          False     False  False  False  False  False  False  False  False   \n",
              "639          False     False  False  False  False  False  False  False  False   \n",
              "640          False     False  False  False  False  False  False  False  False   \n",
              "\n",
              "       AUG    SEP    OCT    NOV    DEC  ANNUAL  Jan-Feb  Mar-May  Jun-Sep  \\\n",
              "0    False  False  False  False  False   False    False    False    False   \n",
              "1    False  False  False  False  False   False    False    False    False   \n",
              "2    False  False  False  False  False   False    False    False    False   \n",
              "3    False  False  False  False  False   False    False    False    False   \n",
              "4    False  False  False  False  False   False    False    False    False   \n",
              "..     ...    ...    ...    ...    ...     ...      ...      ...      ...   \n",
              "636  False  False  False  False  False   False    False    False    False   \n",
              "637  False  False  False  False  False   False    False    False    False   \n",
              "638  False  False  False  False  False   False    False    False    False   \n",
              "639  False  False  False  False  False   False    False    False    False   \n",
              "640  False  False  False  False  False   False    False    False    False   \n",
              "\n",
              "     Oct-Dec  \n",
              "0      False  \n",
              "1      False  \n",
              "2      False  \n",
              "3      False  \n",
              "4      False  \n",
              "..       ...  \n",
              "636    False  \n",
              "637    False  \n",
              "638    False  \n",
              "639    False  \n",
              "640    False  \n",
              "\n",
              "[641 rows x 19 columns]>"
            ]
          },
          "metadata": {},
          "execution_count": 10
        }
      ]
    },
    {
      "cell_type": "code",
      "source": [
        "df2.isnull().sum()"
      ],
      "metadata": {
        "colab": {
          "base_uri": "https://localhost:8080/"
        },
        "id": "f7W_Vlcf-Zbb",
        "outputId": "121c476d-a492-4f14-b5fe-3dd882a7cf5c"
      },
      "execution_count": 11,
      "outputs": [
        {
          "output_type": "execute_result",
          "data": {
            "text/plain": [
              "MinTemp           0\n",
              "MaxTemp           0\n",
              "Rainfall          0\n",
              "Evaporation       0\n",
              "Sunshine          3\n",
              "WindGustDir       3\n",
              "WindGustSpeed     2\n",
              "WindDir9am       31\n",
              "WindDir3pm        1\n",
              "WindSpeed9am      7\n",
              "WindSpeed3pm      0\n",
              "Humidity9am       0\n",
              "Humidity3pm       0\n",
              "Pressure9am       0\n",
              "Pressure3pm       0\n",
              "Cloud9am          0\n",
              "Cloud3pm          0\n",
              "Temp9am           0\n",
              "Temp3pm           0\n",
              "RainToday         0\n",
              "RISK_MM           0\n",
              "RainTomorrow      0\n",
              "dtype: int64"
            ]
          },
          "metadata": {},
          "execution_count": 11
        }
      ]
    },
    {
      "cell_type": "code",
      "source": [
        "df.shape"
      ],
      "metadata": {
        "colab": {
          "base_uri": "https://localhost:8080/"
        },
        "id": "j4IQcPkN-f-c",
        "outputId": "a19ae564-7876-4e2c-bd03-9519cc2071e3"
      },
      "execution_count": 12,
      "outputs": [
        {
          "output_type": "execute_result",
          "data": {
            "text/plain": [
              "(4116, 19)"
            ]
          },
          "metadata": {},
          "execution_count": 12
        }
      ]
    },
    {
      "cell_type": "code",
      "source": [
        "df = df.dropna(axis = 0, how ='any')\n",
        "df.shape"
      ],
      "metadata": {
        "colab": {
          "base_uri": "https://localhost:8080/"
        },
        "id": "g98QnECO-lGJ",
        "outputId": "bdf48fb4-a002-4b45-8e49-1f4aba4c0263"
      },
      "execution_count": 13,
      "outputs": [
        {
          "output_type": "execute_result",
          "data": {
            "text/plain": [
              "(4090, 19)"
            ]
          },
          "metadata": {},
          "execution_count": 13
        }
      ]
    },
    {
      "cell_type": "code",
      "source": [
        "df.isnull().any()"
      ],
      "metadata": {
        "colab": {
          "base_uri": "https://localhost:8080/"
        },
        "id": "W0ecOnYn-p89",
        "outputId": "1516a35b-fedf-4b0e-c4b7-428528e19377"
      },
      "execution_count": 14,
      "outputs": [
        {
          "output_type": "execute_result",
          "data": {
            "text/plain": [
              "SUBDIVISION    False\n",
              "YEAR           False\n",
              "JAN            False\n",
              "FEB            False\n",
              "MAR            False\n",
              "APR            False\n",
              "MAY            False\n",
              "JUN            False\n",
              "JUL            False\n",
              "AUG            False\n",
              "SEP            False\n",
              "OCT            False\n",
              "NOV            False\n",
              "DEC            False\n",
              "ANNUAL         False\n",
              "Jan-Feb        False\n",
              "Mar-May        False\n",
              "Jun-Sep        False\n",
              "Oct-Dec        False\n",
              "dtype: bool"
            ]
          },
          "metadata": {},
          "execution_count": 14
        }
      ]
    },
    {
      "cell_type": "code",
      "source": [
        "df.describe()"
      ],
      "metadata": {
        "colab": {
          "base_uri": "https://localhost:8080/",
          "height": 364
        },
        "id": "MINwUVIE-ukg",
        "outputId": "e533722c-7d01-44eb-d09a-664f4dc9ecce"
      },
      "execution_count": 15,
      "outputs": [
        {
          "output_type": "execute_result",
          "data": {
            "text/plain": [
              "              YEAR          JAN          FEB          MAR          APR  \\\n",
              "count  4090.000000  4090.000000  4090.000000  4090.000000  4090.000000   \n",
              "mean   1958.321271    18.818484    21.644792    27.252494    42.714548   \n",
              "std      33.148944    33.521719    35.762010    46.829179    67.264863   \n",
              "min    1901.000000     0.000000     0.000000     0.000000     0.000000   \n",
              "25%    1930.000000     0.600000     0.600000     1.000000     3.000000   \n",
              "50%    1959.000000     5.900000     6.600000     7.800000    15.500000   \n",
              "75%    1987.000000    21.950000    26.600000    31.100000    49.375000   \n",
              "max    2015.000000   583.700000   403.500000   605.600000   595.100000   \n",
              "\n",
              "               MAY          JUN          JUL          AUG          SEP  \\\n",
              "count  4090.000000  4090.000000  4090.000000  4090.000000  4090.000000   \n",
              "mean     84.868044   228.928020   346.496968   289.897506   197.003056   \n",
              "std     122.556801   233.535693   269.352685   187.702293   135.266708   \n",
              "min       0.000000     0.400000     0.000000     0.000000     0.100000   \n",
              "25%       8.500000    70.000000   175.225000   155.925000   100.400000   \n",
              "50%      36.050000   138.450000   284.300000   259.500000   173.600000   \n",
              "75%      94.975000   302.250000   416.700000   377.775000   265.600000   \n",
              "max    1168.600000  1609.900000  2362.800000  1664.600000  1222.000000   \n",
              "\n",
              "               OCT          NOV          DEC       ANNUAL      Jan-Feb  \\\n",
              "count  4090.000000  4090.000000  4090.000000  4090.000000  4090.000000   \n",
              "mean     95.139022    39.548191    18.695575  1411.008900    40.462861   \n",
              "std      99.325638    68.275513    42.185553   903.846565    59.136229   \n",
              "min       0.000000     0.000000     0.000000    62.300000     0.000000   \n",
              "25%      14.600000     0.700000     0.100000   804.500000     4.100000   \n",
              "50%      64.650000     9.500000     3.000000  1121.300000    19.000000   \n",
              "75%     148.100000    45.475000    17.300000  1644.775000    50.200000   \n",
              "max     948.300000   648.900000   617.500000  6331.100000   699.500000   \n",
              "\n",
              "           Mar-May      Jun-Sep      Oct-Dec  \n",
              "count  4090.000000  4090.000000  4090.000000  \n",
              "mean    154.835452  1062.325575   153.384499  \n",
              "std     200.315769   705.970202   166.414108  \n",
              "min       0.000000    57.400000     0.000000  \n",
              "25%      23.800000   573.275000    34.025000  \n",
              "50%      74.250000   880.200000    97.550000  \n",
              "75%     195.300000  1286.175000   211.800000  \n",
              "max    1745.800000  4536.900000  1252.500000  "
            ],
            "text/html": [
              "\n",
              "  <div id=\"df-f55a04a4-ca18-46e7-b49e-75f8140e7cbb\">\n",
              "    <div class=\"colab-df-container\">\n",
              "      <div>\n",
              "<style scoped>\n",
              "    .dataframe tbody tr th:only-of-type {\n",
              "        vertical-align: middle;\n",
              "    }\n",
              "\n",
              "    .dataframe tbody tr th {\n",
              "        vertical-align: top;\n",
              "    }\n",
              "\n",
              "    .dataframe thead th {\n",
              "        text-align: right;\n",
              "    }\n",
              "</style>\n",
              "<table border=\"1\" class=\"dataframe\">\n",
              "  <thead>\n",
              "    <tr style=\"text-align: right;\">\n",
              "      <th></th>\n",
              "      <th>YEAR</th>\n",
              "      <th>JAN</th>\n",
              "      <th>FEB</th>\n",
              "      <th>MAR</th>\n",
              "      <th>APR</th>\n",
              "      <th>MAY</th>\n",
              "      <th>JUN</th>\n",
              "      <th>JUL</th>\n",
              "      <th>AUG</th>\n",
              "      <th>SEP</th>\n",
              "      <th>OCT</th>\n",
              "      <th>NOV</th>\n",
              "      <th>DEC</th>\n",
              "      <th>ANNUAL</th>\n",
              "      <th>Jan-Feb</th>\n",
              "      <th>Mar-May</th>\n",
              "      <th>Jun-Sep</th>\n",
              "      <th>Oct-Dec</th>\n",
              "    </tr>\n",
              "  </thead>\n",
              "  <tbody>\n",
              "    <tr>\n",
              "      <th>count</th>\n",
              "      <td>4090.000000</td>\n",
              "      <td>4090.000000</td>\n",
              "      <td>4090.000000</td>\n",
              "      <td>4090.000000</td>\n",
              "      <td>4090.000000</td>\n",
              "      <td>4090.000000</td>\n",
              "      <td>4090.000000</td>\n",
              "      <td>4090.000000</td>\n",
              "      <td>4090.000000</td>\n",
              "      <td>4090.000000</td>\n",
              "      <td>4090.000000</td>\n",
              "      <td>4090.000000</td>\n",
              "      <td>4090.000000</td>\n",
              "      <td>4090.000000</td>\n",
              "      <td>4090.000000</td>\n",
              "      <td>4090.000000</td>\n",
              "      <td>4090.000000</td>\n",
              "      <td>4090.000000</td>\n",
              "    </tr>\n",
              "    <tr>\n",
              "      <th>mean</th>\n",
              "      <td>1958.321271</td>\n",
              "      <td>18.818484</td>\n",
              "      <td>21.644792</td>\n",
              "      <td>27.252494</td>\n",
              "      <td>42.714548</td>\n",
              "      <td>84.868044</td>\n",
              "      <td>228.928020</td>\n",
              "      <td>346.496968</td>\n",
              "      <td>289.897506</td>\n",
              "      <td>197.003056</td>\n",
              "      <td>95.139022</td>\n",
              "      <td>39.548191</td>\n",
              "      <td>18.695575</td>\n",
              "      <td>1411.008900</td>\n",
              "      <td>40.462861</td>\n",
              "      <td>154.835452</td>\n",
              "      <td>1062.325575</td>\n",
              "      <td>153.384499</td>\n",
              "    </tr>\n",
              "    <tr>\n",
              "      <th>std</th>\n",
              "      <td>33.148944</td>\n",
              "      <td>33.521719</td>\n",
              "      <td>35.762010</td>\n",
              "      <td>46.829179</td>\n",
              "      <td>67.264863</td>\n",
              "      <td>122.556801</td>\n",
              "      <td>233.535693</td>\n",
              "      <td>269.352685</td>\n",
              "      <td>187.702293</td>\n",
              "      <td>135.266708</td>\n",
              "      <td>99.325638</td>\n",
              "      <td>68.275513</td>\n",
              "      <td>42.185553</td>\n",
              "      <td>903.846565</td>\n",
              "      <td>59.136229</td>\n",
              "      <td>200.315769</td>\n",
              "      <td>705.970202</td>\n",
              "      <td>166.414108</td>\n",
              "    </tr>\n",
              "    <tr>\n",
              "      <th>min</th>\n",
              "      <td>1901.000000</td>\n",
              "      <td>0.000000</td>\n",
              "      <td>0.000000</td>\n",
              "      <td>0.000000</td>\n",
              "      <td>0.000000</td>\n",
              "      <td>0.000000</td>\n",
              "      <td>0.400000</td>\n",
              "      <td>0.000000</td>\n",
              "      <td>0.000000</td>\n",
              "      <td>0.100000</td>\n",
              "      <td>0.000000</td>\n",
              "      <td>0.000000</td>\n",
              "      <td>0.000000</td>\n",
              "      <td>62.300000</td>\n",
              "      <td>0.000000</td>\n",
              "      <td>0.000000</td>\n",
              "      <td>57.400000</td>\n",
              "      <td>0.000000</td>\n",
              "    </tr>\n",
              "    <tr>\n",
              "      <th>25%</th>\n",
              "      <td>1930.000000</td>\n",
              "      <td>0.600000</td>\n",
              "      <td>0.600000</td>\n",
              "      <td>1.000000</td>\n",
              "      <td>3.000000</td>\n",
              "      <td>8.500000</td>\n",
              "      <td>70.000000</td>\n",
              "      <td>175.225000</td>\n",
              "      <td>155.925000</td>\n",
              "      <td>100.400000</td>\n",
              "      <td>14.600000</td>\n",
              "      <td>0.700000</td>\n",
              "      <td>0.100000</td>\n",
              "      <td>804.500000</td>\n",
              "      <td>4.100000</td>\n",
              "      <td>23.800000</td>\n",
              "      <td>573.275000</td>\n",
              "      <td>34.025000</td>\n",
              "    </tr>\n",
              "    <tr>\n",
              "      <th>50%</th>\n",
              "      <td>1959.000000</td>\n",
              "      <td>5.900000</td>\n",
              "      <td>6.600000</td>\n",
              "      <td>7.800000</td>\n",
              "      <td>15.500000</td>\n",
              "      <td>36.050000</td>\n",
              "      <td>138.450000</td>\n",
              "      <td>284.300000</td>\n",
              "      <td>259.500000</td>\n",
              "      <td>173.600000</td>\n",
              "      <td>64.650000</td>\n",
              "      <td>9.500000</td>\n",
              "      <td>3.000000</td>\n",
              "      <td>1121.300000</td>\n",
              "      <td>19.000000</td>\n",
              "      <td>74.250000</td>\n",
              "      <td>880.200000</td>\n",
              "      <td>97.550000</td>\n",
              "    </tr>\n",
              "    <tr>\n",
              "      <th>75%</th>\n",
              "      <td>1987.000000</td>\n",
              "      <td>21.950000</td>\n",
              "      <td>26.600000</td>\n",
              "      <td>31.100000</td>\n",
              "      <td>49.375000</td>\n",
              "      <td>94.975000</td>\n",
              "      <td>302.250000</td>\n",
              "      <td>416.700000</td>\n",
              "      <td>377.775000</td>\n",
              "      <td>265.600000</td>\n",
              "      <td>148.100000</td>\n",
              "      <td>45.475000</td>\n",
              "      <td>17.300000</td>\n",
              "      <td>1644.775000</td>\n",
              "      <td>50.200000</td>\n",
              "      <td>195.300000</td>\n",
              "      <td>1286.175000</td>\n",
              "      <td>211.800000</td>\n",
              "    </tr>\n",
              "    <tr>\n",
              "      <th>max</th>\n",
              "      <td>2015.000000</td>\n",
              "      <td>583.700000</td>\n",
              "      <td>403.500000</td>\n",
              "      <td>605.600000</td>\n",
              "      <td>595.100000</td>\n",
              "      <td>1168.600000</td>\n",
              "      <td>1609.900000</td>\n",
              "      <td>2362.800000</td>\n",
              "      <td>1664.600000</td>\n",
              "      <td>1222.000000</td>\n",
              "      <td>948.300000</td>\n",
              "      <td>648.900000</td>\n",
              "      <td>617.500000</td>\n",
              "      <td>6331.100000</td>\n",
              "      <td>699.500000</td>\n",
              "      <td>1745.800000</td>\n",
              "      <td>4536.900000</td>\n",
              "      <td>1252.500000</td>\n",
              "    </tr>\n",
              "  </tbody>\n",
              "</table>\n",
              "</div>\n",
              "      <button class=\"colab-df-convert\" onclick=\"convertToInteractive('df-f55a04a4-ca18-46e7-b49e-75f8140e7cbb')\"\n",
              "              title=\"Convert this dataframe to an interactive table.\"\n",
              "              style=\"display:none;\">\n",
              "        \n",
              "  <svg xmlns=\"http://www.w3.org/2000/svg\" height=\"24px\"viewBox=\"0 0 24 24\"\n",
              "       width=\"24px\">\n",
              "    <path d=\"M0 0h24v24H0V0z\" fill=\"none\"/>\n",
              "    <path d=\"M18.56 5.44l.94 2.06.94-2.06 2.06-.94-2.06-.94-.94-2.06-.94 2.06-2.06.94zm-11 1L8.5 8.5l.94-2.06 2.06-.94-2.06-.94L8.5 2.5l-.94 2.06-2.06.94zm10 10l.94 2.06.94-2.06 2.06-.94-2.06-.94-.94-2.06-.94 2.06-2.06.94z\"/><path d=\"M17.41 7.96l-1.37-1.37c-.4-.4-.92-.59-1.43-.59-.52 0-1.04.2-1.43.59L10.3 9.45l-7.72 7.72c-.78.78-.78 2.05 0 2.83L4 21.41c.39.39.9.59 1.41.59.51 0 1.02-.2 1.41-.59l7.78-7.78 2.81-2.81c.8-.78.8-2.07 0-2.86zM5.41 20L4 18.59l7.72-7.72 1.47 1.35L5.41 20z\"/>\n",
              "  </svg>\n",
              "      </button>\n",
              "      \n",
              "  <style>\n",
              "    .colab-df-container {\n",
              "      display:flex;\n",
              "      flex-wrap:wrap;\n",
              "      gap: 12px;\n",
              "    }\n",
              "\n",
              "    .colab-df-convert {\n",
              "      background-color: #E8F0FE;\n",
              "      border: none;\n",
              "      border-radius: 50%;\n",
              "      cursor: pointer;\n",
              "      display: none;\n",
              "      fill: #1967D2;\n",
              "      height: 32px;\n",
              "      padding: 0 0 0 0;\n",
              "      width: 32px;\n",
              "    }\n",
              "\n",
              "    .colab-df-convert:hover {\n",
              "      background-color: #E2EBFA;\n",
              "      box-shadow: 0px 1px 2px rgba(60, 64, 67, 0.3), 0px 1px 3px 1px rgba(60, 64, 67, 0.15);\n",
              "      fill: #174EA6;\n",
              "    }\n",
              "\n",
              "    [theme=dark] .colab-df-convert {\n",
              "      background-color: #3B4455;\n",
              "      fill: #D2E3FC;\n",
              "    }\n",
              "\n",
              "    [theme=dark] .colab-df-convert:hover {\n",
              "      background-color: #434B5C;\n",
              "      box-shadow: 0px 1px 3px 1px rgba(0, 0, 0, 0.15);\n",
              "      filter: drop-shadow(0px 1px 2px rgba(0, 0, 0, 0.3));\n",
              "      fill: #FFFFFF;\n",
              "    }\n",
              "  </style>\n",
              "\n",
              "      <script>\n",
              "        const buttonEl =\n",
              "          document.querySelector('#df-f55a04a4-ca18-46e7-b49e-75f8140e7cbb button.colab-df-convert');\n",
              "        buttonEl.style.display =\n",
              "          google.colab.kernel.accessAllowed ? 'block' : 'none';\n",
              "\n",
              "        async function convertToInteractive(key) {\n",
              "          const element = document.querySelector('#df-f55a04a4-ca18-46e7-b49e-75f8140e7cbb');\n",
              "          const dataTable =\n",
              "            await google.colab.kernel.invokeFunction('convertToInteractive',\n",
              "                                                     [key], {});\n",
              "          if (!dataTable) return;\n",
              "\n",
              "          const docLinkHtml = 'Like what you see? Visit the ' +\n",
              "            '<a target=\"_blank\" href=https://colab.research.google.com/notebooks/data_table.ipynb>data table notebook</a>'\n",
              "            + ' to learn more about interactive tables.';\n",
              "          element.innerHTML = '';\n",
              "          dataTable['output_type'] = 'display_data';\n",
              "          await google.colab.output.renderOutput(dataTable, element);\n",
              "          const docLink = document.createElement('div');\n",
              "          docLink.innerHTML = docLinkHtml;\n",
              "          element.appendChild(docLink);\n",
              "        }\n",
              "      </script>\n",
              "    </div>\n",
              "  </div>\n",
              "  "
            ]
          },
          "metadata": {},
          "execution_count": 15
        }
      ]
    },
    {
      "cell_type": "code",
      "source": [
        "df.head()"
      ],
      "metadata": {
        "colab": {
          "base_uri": "https://localhost:8080/",
          "height": 250
        },
        "id": "kyo54TC9-3f4",
        "outputId": "5640ca6a-e999-44f1-9bef-525315104c42"
      },
      "execution_count": 16,
      "outputs": [
        {
          "output_type": "execute_result",
          "data": {
            "text/plain": [
              "                 SUBDIVISION  YEAR   JAN    FEB   MAR    APR    MAY    JUN  \\\n",
              "0  ANDAMAN & NICOBAR ISLANDS  1901  49.2   87.1  29.2    2.3  528.8  517.5   \n",
              "1  ANDAMAN & NICOBAR ISLANDS  1902   0.0  159.8  12.2    0.0  446.1  537.1   \n",
              "2  ANDAMAN & NICOBAR ISLANDS  1903  12.7  144.0   0.0    1.0  235.1  479.9   \n",
              "3  ANDAMAN & NICOBAR ISLANDS  1904   9.4   14.7   0.0  202.4  304.5  495.1   \n",
              "4  ANDAMAN & NICOBAR ISLANDS  1905   1.3    0.0   3.3   26.9  279.5  628.7   \n",
              "\n",
              "     JUL    AUG    SEP    OCT    NOV    DEC  ANNUAL  Jan-Feb  Mar-May  \\\n",
              "0  365.1  481.1  332.6  388.5  558.2   33.6  3373.2    136.3    560.3   \n",
              "1  228.9  753.7  666.2  197.2  359.0  160.5  3520.7    159.8    458.3   \n",
              "2  728.4  326.7  339.0  181.2  284.4  225.0  2957.4    156.7    236.1   \n",
              "3  502.0  160.1  820.4  222.2  308.7   40.1  3079.6     24.1    506.9   \n",
              "4  368.7  330.5  297.0  260.7   25.4  344.7  2566.7      1.3    309.7   \n",
              "\n",
              "   Jun-Sep  Oct-Dec  \n",
              "0   1696.3    980.3  \n",
              "1   2185.9    716.7  \n",
              "2   1874.0    690.6  \n",
              "3   1977.6    571.0  \n",
              "4   1624.9    630.8  "
            ],
            "text/html": [
              "\n",
              "  <div id=\"df-c3d5c362-b5da-4b78-9793-112c9edd5a70\">\n",
              "    <div class=\"colab-df-container\">\n",
              "      <div>\n",
              "<style scoped>\n",
              "    .dataframe tbody tr th:only-of-type {\n",
              "        vertical-align: middle;\n",
              "    }\n",
              "\n",
              "    .dataframe tbody tr th {\n",
              "        vertical-align: top;\n",
              "    }\n",
              "\n",
              "    .dataframe thead th {\n",
              "        text-align: right;\n",
              "    }\n",
              "</style>\n",
              "<table border=\"1\" class=\"dataframe\">\n",
              "  <thead>\n",
              "    <tr style=\"text-align: right;\">\n",
              "      <th></th>\n",
              "      <th>SUBDIVISION</th>\n",
              "      <th>YEAR</th>\n",
              "      <th>JAN</th>\n",
              "      <th>FEB</th>\n",
              "      <th>MAR</th>\n",
              "      <th>APR</th>\n",
              "      <th>MAY</th>\n",
              "      <th>JUN</th>\n",
              "      <th>JUL</th>\n",
              "      <th>AUG</th>\n",
              "      <th>SEP</th>\n",
              "      <th>OCT</th>\n",
              "      <th>NOV</th>\n",
              "      <th>DEC</th>\n",
              "      <th>ANNUAL</th>\n",
              "      <th>Jan-Feb</th>\n",
              "      <th>Mar-May</th>\n",
              "      <th>Jun-Sep</th>\n",
              "      <th>Oct-Dec</th>\n",
              "    </tr>\n",
              "  </thead>\n",
              "  <tbody>\n",
              "    <tr>\n",
              "      <th>0</th>\n",
              "      <td>ANDAMAN &amp; NICOBAR ISLANDS</td>\n",
              "      <td>1901</td>\n",
              "      <td>49.2</td>\n",
              "      <td>87.1</td>\n",
              "      <td>29.2</td>\n",
              "      <td>2.3</td>\n",
              "      <td>528.8</td>\n",
              "      <td>517.5</td>\n",
              "      <td>365.1</td>\n",
              "      <td>481.1</td>\n",
              "      <td>332.6</td>\n",
              "      <td>388.5</td>\n",
              "      <td>558.2</td>\n",
              "      <td>33.6</td>\n",
              "      <td>3373.2</td>\n",
              "      <td>136.3</td>\n",
              "      <td>560.3</td>\n",
              "      <td>1696.3</td>\n",
              "      <td>980.3</td>\n",
              "    </tr>\n",
              "    <tr>\n",
              "      <th>1</th>\n",
              "      <td>ANDAMAN &amp; NICOBAR ISLANDS</td>\n",
              "      <td>1902</td>\n",
              "      <td>0.0</td>\n",
              "      <td>159.8</td>\n",
              "      <td>12.2</td>\n",
              "      <td>0.0</td>\n",
              "      <td>446.1</td>\n",
              "      <td>537.1</td>\n",
              "      <td>228.9</td>\n",
              "      <td>753.7</td>\n",
              "      <td>666.2</td>\n",
              "      <td>197.2</td>\n",
              "      <td>359.0</td>\n",
              "      <td>160.5</td>\n",
              "      <td>3520.7</td>\n",
              "      <td>159.8</td>\n",
              "      <td>458.3</td>\n",
              "      <td>2185.9</td>\n",
              "      <td>716.7</td>\n",
              "    </tr>\n",
              "    <tr>\n",
              "      <th>2</th>\n",
              "      <td>ANDAMAN &amp; NICOBAR ISLANDS</td>\n",
              "      <td>1903</td>\n",
              "      <td>12.7</td>\n",
              "      <td>144.0</td>\n",
              "      <td>0.0</td>\n",
              "      <td>1.0</td>\n",
              "      <td>235.1</td>\n",
              "      <td>479.9</td>\n",
              "      <td>728.4</td>\n",
              "      <td>326.7</td>\n",
              "      <td>339.0</td>\n",
              "      <td>181.2</td>\n",
              "      <td>284.4</td>\n",
              "      <td>225.0</td>\n",
              "      <td>2957.4</td>\n",
              "      <td>156.7</td>\n",
              "      <td>236.1</td>\n",
              "      <td>1874.0</td>\n",
              "      <td>690.6</td>\n",
              "    </tr>\n",
              "    <tr>\n",
              "      <th>3</th>\n",
              "      <td>ANDAMAN &amp; NICOBAR ISLANDS</td>\n",
              "      <td>1904</td>\n",
              "      <td>9.4</td>\n",
              "      <td>14.7</td>\n",
              "      <td>0.0</td>\n",
              "      <td>202.4</td>\n",
              "      <td>304.5</td>\n",
              "      <td>495.1</td>\n",
              "      <td>502.0</td>\n",
              "      <td>160.1</td>\n",
              "      <td>820.4</td>\n",
              "      <td>222.2</td>\n",
              "      <td>308.7</td>\n",
              "      <td>40.1</td>\n",
              "      <td>3079.6</td>\n",
              "      <td>24.1</td>\n",
              "      <td>506.9</td>\n",
              "      <td>1977.6</td>\n",
              "      <td>571.0</td>\n",
              "    </tr>\n",
              "    <tr>\n",
              "      <th>4</th>\n",
              "      <td>ANDAMAN &amp; NICOBAR ISLANDS</td>\n",
              "      <td>1905</td>\n",
              "      <td>1.3</td>\n",
              "      <td>0.0</td>\n",
              "      <td>3.3</td>\n",
              "      <td>26.9</td>\n",
              "      <td>279.5</td>\n",
              "      <td>628.7</td>\n",
              "      <td>368.7</td>\n",
              "      <td>330.5</td>\n",
              "      <td>297.0</td>\n",
              "      <td>260.7</td>\n",
              "      <td>25.4</td>\n",
              "      <td>344.7</td>\n",
              "      <td>2566.7</td>\n",
              "      <td>1.3</td>\n",
              "      <td>309.7</td>\n",
              "      <td>1624.9</td>\n",
              "      <td>630.8</td>\n",
              "    </tr>\n",
              "  </tbody>\n",
              "</table>\n",
              "</div>\n",
              "      <button class=\"colab-df-convert\" onclick=\"convertToInteractive('df-c3d5c362-b5da-4b78-9793-112c9edd5a70')\"\n",
              "              title=\"Convert this dataframe to an interactive table.\"\n",
              "              style=\"display:none;\">\n",
              "        \n",
              "  <svg xmlns=\"http://www.w3.org/2000/svg\" height=\"24px\"viewBox=\"0 0 24 24\"\n",
              "       width=\"24px\">\n",
              "    <path d=\"M0 0h24v24H0V0z\" fill=\"none\"/>\n",
              "    <path d=\"M18.56 5.44l.94 2.06.94-2.06 2.06-.94-2.06-.94-.94-2.06-.94 2.06-2.06.94zm-11 1L8.5 8.5l.94-2.06 2.06-.94-2.06-.94L8.5 2.5l-.94 2.06-2.06.94zm10 10l.94 2.06.94-2.06 2.06-.94-2.06-.94-.94-2.06-.94 2.06-2.06.94z\"/><path d=\"M17.41 7.96l-1.37-1.37c-.4-.4-.92-.59-1.43-.59-.52 0-1.04.2-1.43.59L10.3 9.45l-7.72 7.72c-.78.78-.78 2.05 0 2.83L4 21.41c.39.39.9.59 1.41.59.51 0 1.02-.2 1.41-.59l7.78-7.78 2.81-2.81c.8-.78.8-2.07 0-2.86zM5.41 20L4 18.59l7.72-7.72 1.47 1.35L5.41 20z\"/>\n",
              "  </svg>\n",
              "      </button>\n",
              "      \n",
              "  <style>\n",
              "    .colab-df-container {\n",
              "      display:flex;\n",
              "      flex-wrap:wrap;\n",
              "      gap: 12px;\n",
              "    }\n",
              "\n",
              "    .colab-df-convert {\n",
              "      background-color: #E8F0FE;\n",
              "      border: none;\n",
              "      border-radius: 50%;\n",
              "      cursor: pointer;\n",
              "      display: none;\n",
              "      fill: #1967D2;\n",
              "      height: 32px;\n",
              "      padding: 0 0 0 0;\n",
              "      width: 32px;\n",
              "    }\n",
              "\n",
              "    .colab-df-convert:hover {\n",
              "      background-color: #E2EBFA;\n",
              "      box-shadow: 0px 1px 2px rgba(60, 64, 67, 0.3), 0px 1px 3px 1px rgba(60, 64, 67, 0.15);\n",
              "      fill: #174EA6;\n",
              "    }\n",
              "\n",
              "    [theme=dark] .colab-df-convert {\n",
              "      background-color: #3B4455;\n",
              "      fill: #D2E3FC;\n",
              "    }\n",
              "\n",
              "    [theme=dark] .colab-df-convert:hover {\n",
              "      background-color: #434B5C;\n",
              "      box-shadow: 0px 1px 3px 1px rgba(0, 0, 0, 0.15);\n",
              "      filter: drop-shadow(0px 1px 2px rgba(0, 0, 0, 0.3));\n",
              "      fill: #FFFFFF;\n",
              "    }\n",
              "  </style>\n",
              "\n",
              "      <script>\n",
              "        const buttonEl =\n",
              "          document.querySelector('#df-c3d5c362-b5da-4b78-9793-112c9edd5a70 button.colab-df-convert');\n",
              "        buttonEl.style.display =\n",
              "          google.colab.kernel.accessAllowed ? 'block' : 'none';\n",
              "\n",
              "        async function convertToInteractive(key) {\n",
              "          const element = document.querySelector('#df-c3d5c362-b5da-4b78-9793-112c9edd5a70');\n",
              "          const dataTable =\n",
              "            await google.colab.kernel.invokeFunction('convertToInteractive',\n",
              "                                                     [key], {});\n",
              "          if (!dataTable) return;\n",
              "\n",
              "          const docLinkHtml = 'Like what you see? Visit the ' +\n",
              "            '<a target=\"_blank\" href=https://colab.research.google.com/notebooks/data_table.ipynb>data table notebook</a>'\n",
              "            + ' to learn more about interactive tables.';\n",
              "          element.innerHTML = '';\n",
              "          dataTable['output_type'] = 'display_data';\n",
              "          await google.colab.output.renderOutput(dataTable, element);\n",
              "          const docLink = document.createElement('div');\n",
              "          docLink.innerHTML = docLinkHtml;\n",
              "          element.appendChild(docLink);\n",
              "        }\n",
              "      </script>\n",
              "    </div>\n",
              "  </div>\n",
              "  "
            ]
          },
          "metadata": {},
          "execution_count": 16
        }
      ]
    },
    {
      "cell_type": "code",
      "source": [
        "df.info()"
      ],
      "metadata": {
        "colab": {
          "base_uri": "https://localhost:8080/"
        },
        "id": "-DdDf6ic_EIR",
        "outputId": "efaa77ed-7fa3-4a2b-802f-5f6bdc2a329d"
      },
      "execution_count": 17,
      "outputs": [
        {
          "output_type": "stream",
          "name": "stdout",
          "text": [
            "<class 'pandas.core.frame.DataFrame'>\n",
            "Int64Index: 4090 entries, 0 to 4115\n",
            "Data columns (total 19 columns):\n",
            " #   Column       Non-Null Count  Dtype  \n",
            "---  ------       --------------  -----  \n",
            " 0   SUBDIVISION  4090 non-null   object \n",
            " 1   YEAR         4090 non-null   int64  \n",
            " 2   JAN          4090 non-null   float64\n",
            " 3   FEB          4090 non-null   float64\n",
            " 4   MAR          4090 non-null   float64\n",
            " 5   APR          4090 non-null   float64\n",
            " 6   MAY          4090 non-null   float64\n",
            " 7   JUN          4090 non-null   float64\n",
            " 8   JUL          4090 non-null   float64\n",
            " 9   AUG          4090 non-null   float64\n",
            " 10  SEP          4090 non-null   float64\n",
            " 11  OCT          4090 non-null   float64\n",
            " 12  NOV          4090 non-null   float64\n",
            " 13  DEC          4090 non-null   float64\n",
            " 14  ANNUAL       4090 non-null   float64\n",
            " 15  Jan-Feb      4090 non-null   float64\n",
            " 16  Mar-May      4090 non-null   float64\n",
            " 17  Jun-Sep      4090 non-null   float64\n",
            " 18  Oct-Dec      4090 non-null   float64\n",
            "dtypes: float64(17), int64(1), object(1)\n",
            "memory usage: 639.1+ KB\n"
          ]
        }
      ]
    },
    {
      "cell_type": "code",
      "source": [
        "df1.shape"
      ],
      "metadata": {
        "colab": {
          "base_uri": "https://localhost:8080/"
        },
        "id": "aW710XD8_GqT",
        "outputId": "6b650c18-2447-42cf-98b9-edc5cdaec936"
      },
      "execution_count": 18,
      "outputs": [
        {
          "output_type": "execute_result",
          "data": {
            "text/plain": [
              "(641, 19)"
            ]
          },
          "metadata": {},
          "execution_count": 18
        }
      ]
    },
    {
      "cell_type": "code",
      "source": [
        "df1 = df1.dropna(axis = 0, how ='any')\n",
        "df1.shape"
      ],
      "metadata": {
        "colab": {
          "base_uri": "https://localhost:8080/"
        },
        "id": "WYFnJM0V_N10",
        "outputId": "f275cb1a-4f62-4cee-964a-c96e80e9e819"
      },
      "execution_count": 19,
      "outputs": [
        {
          "output_type": "execute_result",
          "data": {
            "text/plain": [
              "(641, 19)"
            ]
          },
          "metadata": {},
          "execution_count": 19
        }
      ]
    },
    {
      "cell_type": "code",
      "source": [
        "df1.isnull().any()"
      ],
      "metadata": {
        "colab": {
          "base_uri": "https://localhost:8080/"
        },
        "id": "_n_e0eA-_SHt",
        "outputId": "5c5d9af8-8590-4da8-e3eb-590006a54d95"
      },
      "execution_count": 20,
      "outputs": [
        {
          "output_type": "execute_result",
          "data": {
            "text/plain": [
              "STATE_UT_NAME    False\n",
              "DISTRICT         False\n",
              "JAN              False\n",
              "FEB              False\n",
              "MAR              False\n",
              "APR              False\n",
              "MAY              False\n",
              "JUN              False\n",
              "JUL              False\n",
              "AUG              False\n",
              "SEP              False\n",
              "OCT              False\n",
              "NOV              False\n",
              "DEC              False\n",
              "ANNUAL           False\n",
              "Jan-Feb          False\n",
              "Mar-May          False\n",
              "Jun-Sep          False\n",
              "Oct-Dec          False\n",
              "dtype: bool"
            ]
          },
          "metadata": {},
          "execution_count": 20
        }
      ]
    },
    {
      "cell_type": "code",
      "source": [
        "df1.info()\n"
      ],
      "metadata": {
        "colab": {
          "base_uri": "https://localhost:8080/"
        },
        "id": "pEsRkEj6_abM",
        "outputId": "a55624ef-aafd-4964-e6e8-833ae0e8c0e8"
      },
      "execution_count": 21,
      "outputs": [
        {
          "output_type": "stream",
          "name": "stdout",
          "text": [
            "<class 'pandas.core.frame.DataFrame'>\n",
            "Int64Index: 641 entries, 0 to 640\n",
            "Data columns (total 19 columns):\n",
            " #   Column         Non-Null Count  Dtype  \n",
            "---  ------         --------------  -----  \n",
            " 0   STATE_UT_NAME  641 non-null    object \n",
            " 1   DISTRICT       641 non-null    object \n",
            " 2   JAN            641 non-null    float64\n",
            " 3   FEB            641 non-null    float64\n",
            " 4   MAR            641 non-null    float64\n",
            " 5   APR            641 non-null    float64\n",
            " 6   MAY            641 non-null    float64\n",
            " 7   JUN            641 non-null    float64\n",
            " 8   JUL            641 non-null    float64\n",
            " 9   AUG            641 non-null    float64\n",
            " 10  SEP            641 non-null    float64\n",
            " 11  OCT            641 non-null    float64\n",
            " 12  NOV            641 non-null    float64\n",
            " 13  DEC            641 non-null    float64\n",
            " 14  ANNUAL         641 non-null    float64\n",
            " 15  Jan-Feb        641 non-null    float64\n",
            " 16  Mar-May        641 non-null    float64\n",
            " 17  Jun-Sep        641 non-null    float64\n",
            " 18  Oct-Dec        641 non-null    float64\n",
            "dtypes: float64(17), object(2)\n",
            "memory usage: 100.2+ KB\n"
          ]
        }
      ]
    },
    {
      "cell_type": "code",
      "source": [
        "df2.shape"
      ],
      "metadata": {
        "colab": {
          "base_uri": "https://localhost:8080/"
        },
        "id": "PHkuPWik_iuk",
        "outputId": "292747a3-90f0-42cc-c39e-41e13fa3aac1"
      },
      "execution_count": 22,
      "outputs": [
        {
          "output_type": "execute_result",
          "data": {
            "text/plain": [
              "(366, 22)"
            ]
          },
          "metadata": {},
          "execution_count": 22
        }
      ]
    },
    {
      "cell_type": "code",
      "source": [
        "df2 = df2.dropna(axis = 0, how ='any')\n",
        "df2.shape"
      ],
      "metadata": {
        "colab": {
          "base_uri": "https://localhost:8080/"
        },
        "id": "UDC1k_JM_uGH",
        "outputId": "70460884-1278-41eb-c292-cd2a9e3145dd"
      },
      "execution_count": 23,
      "outputs": [
        {
          "output_type": "execute_result",
          "data": {
            "text/plain": [
              "(328, 22)"
            ]
          },
          "metadata": {},
          "execution_count": 23
        }
      ]
    },
    {
      "cell_type": "code",
      "source": [
        "df2.isnull().any()"
      ],
      "metadata": {
        "colab": {
          "base_uri": "https://localhost:8080/"
        },
        "id": "ijSNEkTc_ysj",
        "outputId": "cc71a7ca-78e8-4210-d3c0-367f65818dcd"
      },
      "execution_count": 24,
      "outputs": [
        {
          "output_type": "execute_result",
          "data": {
            "text/plain": [
              "MinTemp          False\n",
              "MaxTemp          False\n",
              "Rainfall         False\n",
              "Evaporation      False\n",
              "Sunshine         False\n",
              "WindGustDir      False\n",
              "WindGustSpeed    False\n",
              "WindDir9am       False\n",
              "WindDir3pm       False\n",
              "WindSpeed9am     False\n",
              "WindSpeed3pm     False\n",
              "Humidity9am      False\n",
              "Humidity3pm      False\n",
              "Pressure9am      False\n",
              "Pressure3pm      False\n",
              "Cloud9am         False\n",
              "Cloud3pm         False\n",
              "Temp9am          False\n",
              "Temp3pm          False\n",
              "RainToday        False\n",
              "RISK_MM          False\n",
              "RainTomorrow     False\n",
              "dtype: bool"
            ]
          },
          "metadata": {},
          "execution_count": 24
        }
      ]
    },
    {
      "cell_type": "code",
      "source": [
        "df2.info()"
      ],
      "metadata": {
        "colab": {
          "base_uri": "https://localhost:8080/"
        },
        "id": "T3JUOrJ__3g5",
        "outputId": "286519af-efd4-4f6b-d904-856cf0698be7"
      },
      "execution_count": 25,
      "outputs": [
        {
          "output_type": "stream",
          "name": "stdout",
          "text": [
            "<class 'pandas.core.frame.DataFrame'>\n",
            "Int64Index: 328 entries, 0 to 365\n",
            "Data columns (total 22 columns):\n",
            " #   Column         Non-Null Count  Dtype  \n",
            "---  ------         --------------  -----  \n",
            " 0   MinTemp        328 non-null    float64\n",
            " 1   MaxTemp        328 non-null    float64\n",
            " 2   Rainfall       328 non-null    float64\n",
            " 3   Evaporation    328 non-null    float64\n",
            " 4   Sunshine       328 non-null    float64\n",
            " 5   WindGustDir    328 non-null    object \n",
            " 6   WindGustSpeed  328 non-null    float64\n",
            " 7   WindDir9am     328 non-null    object \n",
            " 8   WindDir3pm     328 non-null    object \n",
            " 9   WindSpeed9am   328 non-null    float64\n",
            " 10  WindSpeed3pm   328 non-null    int64  \n",
            " 11  Humidity9am    328 non-null    int64  \n",
            " 12  Humidity3pm    328 non-null    int64  \n",
            " 13  Pressure9am    328 non-null    float64\n",
            " 14  Pressure3pm    328 non-null    float64\n",
            " 15  Cloud9am       328 non-null    int64  \n",
            " 16  Cloud3pm       328 non-null    int64  \n",
            " 17  Temp9am        328 non-null    float64\n",
            " 18  Temp3pm        328 non-null    float64\n",
            " 19  RainToday      328 non-null    object \n",
            " 20  RISK_MM        328 non-null    float64\n",
            " 21  RainTomorrow   328 non-null    object \n",
            "dtypes: float64(12), int64(5), object(5)\n",
            "memory usage: 58.9+ KB\n"
          ]
        }
      ]
    },
    {
      "cell_type": "code",
      "source": [
        "df.YEAR.value_counts()"
      ],
      "metadata": {
        "colab": {
          "base_uri": "https://localhost:8080/"
        },
        "id": "5Fe6FRkv_8aX",
        "outputId": "5c1a792c-1bdd-4aad-c7dd-b85f6d1500fb"
      },
      "execution_count": 26,
      "outputs": [
        {
          "output_type": "execute_result",
          "data": {
            "text/plain": [
              "1969    36\n",
              "1993    36\n",
              "1971    36\n",
              "1970    36\n",
              "1994    36\n",
              "        ..\n",
              "1927    35\n",
              "1917    34\n",
              "1943    34\n",
              "1903    34\n",
              "1909    34\n",
              "Name: YEAR, Length: 115, dtype: int64"
            ]
          },
          "metadata": {},
          "execution_count": 26
        }
      ]
    },
    {
      "cell_type": "code",
      "source": [
        "df1.DISTRICT.value_counts()"
      ],
      "metadata": {
        "colab": {
          "base_uri": "https://localhost:8080/"
        },
        "id": "9YF6ZrUNAAW3",
        "outputId": "4704b371-fbfb-4b45-a68f-0c0ce580d112"
      },
      "execution_count": 27,
      "outputs": [
        {
          "output_type": "execute_result",
          "data": {
            "text/plain": [
              "BIJAPUR        2\n",
              "BILASPUR       2\n",
              "AURANGABAD     2\n",
              "HAMIRPUR       2\n",
              "NICOBAR        1\n",
              "              ..\n",
              "GONDA          1\n",
              "GORAKHPUR      1\n",
              "HARDOI         1\n",
              "JAUNPUR        1\n",
              "LAKSHADWEEP    1\n",
              "Name: DISTRICT, Length: 637, dtype: int64"
            ]
          },
          "metadata": {},
          "execution_count": 27
        }
      ]
    },
    {
      "cell_type": "code",
      "source": [
        "subs = df['SUBDIVISION'].unique()\n",
        "print (subs)\n",
        "print ('TOTAL SUBDIVISIONS: ', len(subs))"
      ],
      "metadata": {
        "colab": {
          "base_uri": "https://localhost:8080/"
        },
        "id": "IBoVqkacAEHz",
        "outputId": "1ae36978-43d6-4100-cca9-3415227c30d9"
      },
      "execution_count": 28,
      "outputs": [
        {
          "output_type": "stream",
          "name": "stdout",
          "text": [
            "['ANDAMAN & NICOBAR ISLANDS' 'ARUNACHAL PRADESH' 'ASSAM & MEGHALAYA'\n",
            " 'NAGA MANI MIZO TRIPURA' 'SUB HIMALAYAN WEST BENGAL & SIKKIM'\n",
            " 'GANGETIC WEST BENGAL' 'ORISSA' 'JHARKHAND' 'BIHAR' 'EAST UTTAR PRADESH'\n",
            " 'WEST UTTAR PRADESH' 'UTTARAKHAND' 'HARYANA DELHI & CHANDIGARH' 'PUNJAB'\n",
            " 'HIMACHAL PRADESH' 'JAMMU & KASHMIR' 'WEST RAJASTHAN' 'EAST RAJASTHAN'\n",
            " 'WEST MADHYA PRADESH' 'EAST MADHYA PRADESH' 'GUJARAT REGION'\n",
            " 'SAURASHTRA & KUTCH' 'KONKAN & GOA' 'MADHYA MAHARASHTRA' 'MATATHWADA'\n",
            " 'VIDARBHA' 'CHHATTISGARH' 'COASTAL ANDHRA PRADESH' 'TELANGANA'\n",
            " 'RAYALSEEMA' 'TAMIL NADU' 'COASTAL KARNATAKA' 'NORTH INTERIOR KARNATAKA'\n",
            " 'SOUTH INTERIOR KARNATAKA' 'KERALA' 'LAKSHADWEEP']\n",
            "TOTAL SUBDIVISIONS:  36\n"
          ]
        }
      ]
    },
    {
      "cell_type": "code",
      "source": [
        "unique_state_counts_yearwise = df.groupby(by='YEAR')[['SUBDIVISION']].count()['SUBDIVISION'].value_counts()\n",
        "\n",
        "print (unique_state_counts_yearwise)"
      ],
      "metadata": {
        "colab": {
          "base_uri": "https://localhost:8080/"
        },
        "id": "E2pkaZIoAc8z",
        "outputId": "c5958fa7-5be0-477b-9487-e9df6fc27ce8"
      },
      "execution_count": 29,
      "outputs": [
        {
          "output_type": "stream",
          "name": "stdout",
          "text": [
            "36    69\n",
            "35    42\n",
            "34     4\n",
            "Name: SUBDIVISION, dtype: int64\n"
          ]
        }
      ]
    },
    {
      "cell_type": "code",
      "source": [
        "state_count = df.groupby(by='SUBDIVISION')[['ANNUAL']].count().sort_values(by='ANNUAL')\n",
        "print (state_count.head(10))"
      ],
      "metadata": {
        "colab": {
          "base_uri": "https://localhost:8080/"
        },
        "id": "9EEZ1_VgAhQ6",
        "outputId": "10496abb-d101-4e80-bff8-9c68751dea1d"
      },
      "execution_count": 30,
      "outputs": [
        {
          "output_type": "stream",
          "name": "stdout",
          "text": [
            "                           ANNUAL\n",
            "SUBDIVISION                      \n",
            "ARUNACHAL PRADESH              91\n",
            "LAKSHADWEEP                   103\n",
            "ANDAMAN & NICOBAR ISLANDS     104\n",
            "COASTAL KARNATAKA             114\n",
            "JAMMU & KASHMIR               114\n",
            "WEST MADHYA PRADESH           114\n",
            "VIDARBHA                      115\n",
            "UTTARAKHAND                   115\n",
            "TELANGANA                     115\n",
            "TAMIL NADU                    115\n"
          ]
        }
      ]
    },
    {
      "cell_type": "code",
      "source": [
        "overall = df.groupby(by='SUBDIVISION').sum()[['ANNUAL']].sort_values(by='ANNUAL', ascending=False)\n",
        "overall.head()"
      ],
      "metadata": {
        "colab": {
          "base_uri": "https://localhost:8080/",
          "height": 238
        },
        "id": "jT0Zv6FfAmt5",
        "outputId": "6d83008f-3994-4ea9-b8ac-9a3bd6798a51"
      },
      "execution_count": 31,
      "outputs": [
        {
          "output_type": "execute_result",
          "data": {
            "text/plain": [
              "                                      ANNUAL\n",
              "SUBDIVISION                                 \n",
              "COASTAL KARNATAKA                   388558.7\n",
              "KONKAN & GOA                        342433.9\n",
              "KERALA                              336431.1\n",
              "SUB HIMALAYAN WEST BENGAL & SIKKIM  316505.0\n",
              "ARUNACHAL PRADESH                   311116.0"
            ],
            "text/html": [
              "\n",
              "  <div id=\"df-ccf82860-01a0-47a0-8960-f6080f713b0e\">\n",
              "    <div class=\"colab-df-container\">\n",
              "      <div>\n",
              "<style scoped>\n",
              "    .dataframe tbody tr th:only-of-type {\n",
              "        vertical-align: middle;\n",
              "    }\n",
              "\n",
              "    .dataframe tbody tr th {\n",
              "        vertical-align: top;\n",
              "    }\n",
              "\n",
              "    .dataframe thead th {\n",
              "        text-align: right;\n",
              "    }\n",
              "</style>\n",
              "<table border=\"1\" class=\"dataframe\">\n",
              "  <thead>\n",
              "    <tr style=\"text-align: right;\">\n",
              "      <th></th>\n",
              "      <th>ANNUAL</th>\n",
              "    </tr>\n",
              "    <tr>\n",
              "      <th>SUBDIVISION</th>\n",
              "      <th></th>\n",
              "    </tr>\n",
              "  </thead>\n",
              "  <tbody>\n",
              "    <tr>\n",
              "      <th>COASTAL KARNATAKA</th>\n",
              "      <td>388558.7</td>\n",
              "    </tr>\n",
              "    <tr>\n",
              "      <th>KONKAN &amp; GOA</th>\n",
              "      <td>342433.9</td>\n",
              "    </tr>\n",
              "    <tr>\n",
              "      <th>KERALA</th>\n",
              "      <td>336431.1</td>\n",
              "    </tr>\n",
              "    <tr>\n",
              "      <th>SUB HIMALAYAN WEST BENGAL &amp; SIKKIM</th>\n",
              "      <td>316505.0</td>\n",
              "    </tr>\n",
              "    <tr>\n",
              "      <th>ARUNACHAL PRADESH</th>\n",
              "      <td>311116.0</td>\n",
              "    </tr>\n",
              "  </tbody>\n",
              "</table>\n",
              "</div>\n",
              "      <button class=\"colab-df-convert\" onclick=\"convertToInteractive('df-ccf82860-01a0-47a0-8960-f6080f713b0e')\"\n",
              "              title=\"Convert this dataframe to an interactive table.\"\n",
              "              style=\"display:none;\">\n",
              "        \n",
              "  <svg xmlns=\"http://www.w3.org/2000/svg\" height=\"24px\"viewBox=\"0 0 24 24\"\n",
              "       width=\"24px\">\n",
              "    <path d=\"M0 0h24v24H0V0z\" fill=\"none\"/>\n",
              "    <path d=\"M18.56 5.44l.94 2.06.94-2.06 2.06-.94-2.06-.94-.94-2.06-.94 2.06-2.06.94zm-11 1L8.5 8.5l.94-2.06 2.06-.94-2.06-.94L8.5 2.5l-.94 2.06-2.06.94zm10 10l.94 2.06.94-2.06 2.06-.94-2.06-.94-.94-2.06-.94 2.06-2.06.94z\"/><path d=\"M17.41 7.96l-1.37-1.37c-.4-.4-.92-.59-1.43-.59-.52 0-1.04.2-1.43.59L10.3 9.45l-7.72 7.72c-.78.78-.78 2.05 0 2.83L4 21.41c.39.39.9.59 1.41.59.51 0 1.02-.2 1.41-.59l7.78-7.78 2.81-2.81c.8-.78.8-2.07 0-2.86zM5.41 20L4 18.59l7.72-7.72 1.47 1.35L5.41 20z\"/>\n",
              "  </svg>\n",
              "      </button>\n",
              "      \n",
              "  <style>\n",
              "    .colab-df-container {\n",
              "      display:flex;\n",
              "      flex-wrap:wrap;\n",
              "      gap: 12px;\n",
              "    }\n",
              "\n",
              "    .colab-df-convert {\n",
              "      background-color: #E8F0FE;\n",
              "      border: none;\n",
              "      border-radius: 50%;\n",
              "      cursor: pointer;\n",
              "      display: none;\n",
              "      fill: #1967D2;\n",
              "      height: 32px;\n",
              "      padding: 0 0 0 0;\n",
              "      width: 32px;\n",
              "    }\n",
              "\n",
              "    .colab-df-convert:hover {\n",
              "      background-color: #E2EBFA;\n",
              "      box-shadow: 0px 1px 2px rgba(60, 64, 67, 0.3), 0px 1px 3px 1px rgba(60, 64, 67, 0.15);\n",
              "      fill: #174EA6;\n",
              "    }\n",
              "\n",
              "    [theme=dark] .colab-df-convert {\n",
              "      background-color: #3B4455;\n",
              "      fill: #D2E3FC;\n",
              "    }\n",
              "\n",
              "    [theme=dark] .colab-df-convert:hover {\n",
              "      background-color: #434B5C;\n",
              "      box-shadow: 0px 1px 3px 1px rgba(0, 0, 0, 0.15);\n",
              "      filter: drop-shadow(0px 1px 2px rgba(0, 0, 0, 0.3));\n",
              "      fill: #FFFFFF;\n",
              "    }\n",
              "  </style>\n",
              "\n",
              "      <script>\n",
              "        const buttonEl =\n",
              "          document.querySelector('#df-ccf82860-01a0-47a0-8960-f6080f713b0e button.colab-df-convert');\n",
              "        buttonEl.style.display =\n",
              "          google.colab.kernel.accessAllowed ? 'block' : 'none';\n",
              "\n",
              "        async function convertToInteractive(key) {\n",
              "          const element = document.querySelector('#df-ccf82860-01a0-47a0-8960-f6080f713b0e');\n",
              "          const dataTable =\n",
              "            await google.colab.kernel.invokeFunction('convertToInteractive',\n",
              "                                                     [key], {});\n",
              "          if (!dataTable) return;\n",
              "\n",
              "          const docLinkHtml = 'Like what you see? Visit the ' +\n",
              "            '<a target=\"_blank\" href=https://colab.research.google.com/notebooks/data_table.ipynb>data table notebook</a>'\n",
              "            + ' to learn more about interactive tables.';\n",
              "          element.innerHTML = '';\n",
              "          dataTable['output_type'] = 'display_data';\n",
              "          await google.colab.output.renderOutput(dataTable, element);\n",
              "          const docLink = document.createElement('div');\n",
              "          docLink.innerHTML = docLinkHtml;\n",
              "          element.appendChild(docLink);\n",
              "        }\n",
              "      </script>\n",
              "    </div>\n",
              "  </div>\n",
              "  "
            ]
          },
          "metadata": {},
          "execution_count": 31
        }
      ]
    },
    {
      "cell_type": "code",
      "source": [
        "highest_sub = overall.index.values[0]\n",
        "lowest_sub = overall.index.values[-1]\n",
        "print ('Highest rain in: ', highest_sub)\n",
        "print ('Lowest rain in: ', lowest_sub)"
      ],
      "metadata": {
        "colab": {
          "base_uri": "https://localhost:8080/"
        },
        "id": "mT58yziUArwn",
        "outputId": "4f301571-a01f-482e-db9e-c7a368b1ef93"
      },
      "execution_count": 32,
      "outputs": [
        {
          "output_type": "stream",
          "name": "stdout",
          "text": [
            "Highest rain in:  COASTAL KARNATAKA\n",
            "Lowest rain in:  WEST RAJASTHAN\n"
          ]
        }
      ]
    },
    {
      "cell_type": "code",
      "source": [
        "import missingno as msno\n",
        "msno.matrix(df2,color=(0.55,0.255,0.225),fontsize=16)"
      ],
      "metadata": {
        "colab": {
          "base_uri": "https://localhost:8080/",
          "height": 606
        },
        "id": "M8HUct7yAwBG",
        "outputId": "0fa9031f-60d5-4542-ab3d-ac03d9843f07"
      },
      "execution_count": 33,
      "outputs": [
        {
          "output_type": "execute_result",
          "data": {
            "text/plain": [
              "<matplotlib.axes._subplots.AxesSubplot at 0x7f0f5aa6dfd0>"
            ]
          },
          "metadata": {},
          "execution_count": 33
        },
        {
          "output_type": "display_data",
          "data": {
            "text/plain": [
              "<Figure size 1800x720 with 2 Axes>"
            ],
            "image/png": "[encoded data removed]"
          },
          "metadata": {
            "needs_background": "light"
          }
        }
      ]
    }
  ]
}